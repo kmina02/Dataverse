{
  "cells": [
    {
      "cell_type": "markdown",
      "metadata": {
        "id": "view-in-github",
        "colab_type": "text"
      },
      "source": [
        "<a href=\"https://colab.research.google.com/github/mj-woo/Dataverse/blob/main/Dataverse_Uploading_Movie_Dataset_Automation.ipynb\" target=\"_parent\"><img src=\"https://colab.research.google.com/assets/colab-badge.svg\" alt=\"Open In Colab\"/></a>"
      ]
    },
    {
      "cell_type": "markdown",
      "metadata": {
        "id": "RzR_AHer9kPC"
      },
      "source": [
        "# Import Modules / Set API Token"
      ]
    },
    {
      "cell_type": "code",
      "execution_count": null,
      "metadata": {
        "id": "4SBPsYlb9DoV"
      },
      "outputs": [],
      "source": [
        "import json\n",
        "import requests\n",
        "from requests import Response\n",
        "from bs4 import BeautifulSoup\n",
        "import pandas as pd"
      ]
    },
    {
      "cell_type": "code",
      "execution_count": null,
      "metadata": {
        "id": "CT9Oo52U9Jj0"
      },
      "outputs": [],
      "source": [
        "global kobis_key, kmdb_key, tmdb_key, dataverse_key\n",
        "\n",
        "with open('./sample_data/credentials.json', 'r') as file:\n",
        "    credentials = json.load(file)\n",
        "    kobis_key: str = credentials[\"kobis_key\"]  # kobis api token\n",
        "    kmdb_key: str = credentials[\"kmdb_key\"]  # kmdb api token\n",
        "    tmdb_key: str = credentials[\"tmdb_key\"]  # tmdb api token\n",
        "    dataverse_key: str = credentials[\"dataverse_key\"] # dataverse api token"
      ]
    },
    {
      "cell_type": "markdown",
      "metadata": {
        "id": "f89FC-ei9rhI"
      },
      "source": [
        "# Functions"
      ]
    },
    {
      "cell_type": "markdown",
      "metadata": {
        "id": "zxandN9B9zkF"
      },
      "source": [
        "## get_kobis_movie_code((movie_name: str))"
      ]
    },
    {
      "cell_type": "code",
      "execution_count": null,
      "metadata": {
        "id": "XJk3xKGZ9hQo"
      },
      "outputs": [],
      "source": [
        "def get_kobis_movie_code(movie_name: str):\n",
        "    '''\n",
        "    get movie identification code (\"movidCd\") from kobis api\n",
        "    :param movie_name: movie title\n",
        "    :return: a list that saves kobis movie identification code(s)\n",
        "    '''\n",
        "    # movie list API request url\n",
        "    url: str = \"http://kobis.or.kr/kobisopenapi/webservice/rest/movie/searchMovieList.json\"\n",
        "\n",
        "    # query parameter\n",
        "    params: dict = {\"key\": kobis_key,\n",
        "                    \"itemPerPage\": 100,\n",
        "                    \"movieNm\": movie_name}\n",
        "    # HTTP response\n",
        "    response: Response = requests.get(url, params=params)\n",
        "\n",
        "    # JSON deserialize\n",
        "    response_json = json.loads(response.text)\n",
        "    # search only if there's a result value\n",
        "    # append movidCd to kobis_code list only if movie title exactly matches and the production country is South Korea\n",
        "    # save movie identification code(s) in the list below\n",
        "    kobis_code = []\n",
        "    if response_json[\"movieListResult\"].get(\"totCnt\") > 0:\n",
        "      for movie in response_json[\"movieListResult\"][\"movieList\"]:\n",
        "        if movie[\"movieNm\"] == movie_name and movie[\"repNationNm\"] in (\"한국\", \"대한민국\"):\n",
        "          kobis_code.append(movie[\"movieCd\"])\n",
        "    return kobis_code"
      ]
    },
    {
      "cell_type": "code",
      "execution_count": null,
      "metadata": {
        "colab": {
          "base_uri": "https://localhost:8080/"
        },
        "id": "z5wPwI5y95i-",
        "outputId": "cdb2137b-ae92-4417-d7c8-395b9ac21b71"
      },
      "outputs": [
        {
          "data": {
            "text/plain": [
              "['20229257', '20228817', '20185341', '20136864']"
            ]
          },
          "execution_count": 34,
          "metadata": {},
          "output_type": "execute_result"
        }
      ],
      "source": [
        "get_kobis_movie_code('마녀')"
      ]
    },
    {
      "cell_type": "markdown",
      "metadata": {
        "id": "NieXZhmd-DSG"
      },
      "source": [
        "## get_kobis_metadata(movie_code: str)"
      ]
    },
    {
      "cell_type": "code",
      "execution_count": null,
      "metadata": {
        "id": "uf01nNvf9794"
      },
      "outputs": [],
      "source": [
        "def get_kobis_metadata(movie_code: str):\n",
        "    '''\n",
        "    get movie metadata from kobis API using movie identification code\n",
        "    :param movie_code: kobis movie identification code\n",
        "    :return: kobis movie metadata\n",
        "    '''\n",
        "\n",
        "    # movie information API request url\n",
        "    url: str = \"http://www.kobis.or.kr/kobisopenapi/webservice/rest/movie/searchMovieInfo.json\"\n",
        "\n",
        "    # query parameter\n",
        "    params: dict = {\"key\": kobis_key,\n",
        "                    \"movieCd\": movie_code}\n",
        "\n",
        "    # HTTP response\n",
        "    response: Response = requests.get(url, params=params)\n",
        "\n",
        "    # JSON deserialize\n",
        "    response_json = json.loads(response.text)\n",
        "\n",
        "    return response_json[\"movieInfoResult\"]['movieInfo']"
      ]
    },
    {
      "cell_type": "code",
      "execution_count": null,
      "metadata": {
        "id": "1IrbkKUS-G82"
      },
      "outputs": [],
      "source": [
        "get_kobis_metadata((get_kobis_movie_code('마녀')))"
      ]
    },
    {
      "cell_type": "markdown",
      "metadata": {
        "id": "TffAPVvM-M2N"
      },
      "source": [
        "## get_kmdb_metadata(movie_name: str)"
      ]
    },
    {
      "cell_type": "code",
      "execution_count": null,
      "metadata": {
        "id": "COX_Lynt-JLz"
      },
      "outputs": [],
      "source": [
        "def get_kmdb_metadata(movie_name: str):\n",
        "    '''\n",
        "    get movie metadata from kmdb api\n",
        "    :param: movie_name: movie name\n",
        "    :return: kmbd movie metadata\n",
        "    '''\n",
        "\n",
        "    url: str = \"http://api.koreafilm.or.kr/openapi-data2/wisenut/search_api/search_json2.jsp?collection=kmdb_new2\"\n",
        "\n",
        "    params: dict = {\"ServiceKey\": kmdb_key,\n",
        "                    \"listCount\": 1000,\n",
        "                    \"title\": movie_name}\n",
        "\n",
        "    # HTTP response\n",
        "    response: Response = requests.get(url, params=params)\n",
        "\n",
        "    # JSON deserialize\n",
        "    kmdb_metadata_list = []\n",
        "    response_json = json.loads(response.text)\n",
        "    if response_json[\"TotalCount\"] > 0:\n",
        "      return response_json[\"Data\"][0][\"Result\"]"
      ]
    },
    {
      "cell_type": "code",
      "execution_count": null,
      "metadata": {
        "id": "9bytWP2A-2N3"
      },
      "outputs": [],
      "source": [
        "get_kmdb_metadata('히어로')"
      ]
    },
    {
      "cell_type": "markdown",
      "metadata": {
        "id": "2GP-IW6itnfS"
      },
      "source": [
        "## producer(company), distributor(company), posterUrl(posters)"
      ]
    },
    {
      "cell_type": "code",
      "execution_count": null,
      "metadata": {
        "id": "pMTv0ZSm-9Sk"
      },
      "outputs": [],
      "source": [
        "def producer(company: dict):\n",
        "    '''\n",
        "    get one of the movie producer names\n",
        "    :param: company: company information\n",
        "    :return: movie producer name\n",
        "    '''\n",
        "    # company is an item in a list: kobis_metadata[\"companys\"]\n",
        "    if company[\"companyPartNm\"] == \"제작사\":\n",
        "      return company[\"companyNm\"]\n",
        "\n",
        "def distributor(company: dict):\n",
        "    '''\n",
        "    get one of the movie distributor names\n",
        "    :param: company: company information\n",
        "    :return: movie distributor name\n",
        "    '''\n",
        "    if company[\"companyPartNm\"] == \"배급사\":\n",
        "      return company[\"companyNm\"]\n",
        "\n",
        "def posterUrl(posters: str):\n",
        "    '''\n",
        "    get one of the poster urls and convert http:// into https:// format for a security reason\n",
        "    :param: posters: poster urls\n",
        "    :return: one poster url\n",
        "    '''\n",
        "    poster = posters.split(\"|\")[:1]\n",
        "    poster = [i.replace(\"http\",\"https\") for i in poster]\n",
        "    return poster"
      ]
    },
    {
      "cell_type": "markdown",
      "metadata": {
        "id": "lIjAwdyltzAH"
      },
      "source": [
        "## change_genre(kobis_genre_list)"
      ]
    },
    {
      "cell_type": "code",
      "execution_count": null,
      "metadata": {
        "id": "5YrZX4ArAMsI"
      },
      "outputs": [],
      "source": [
        "def change_genre(kobis_genre_list: list):\n",
        "    '''\n",
        "    change genre names\n",
        "    :param: kobis_genre_list: movie genres\n",
        "    :return: a list with changed movie genre names\n",
        "    '''\n",
        "  before = ['미스터리', '가족', '판타지', '전쟁', 'SF', '멜로/로맨스', '공포(호러)']\n",
        "  after = ['스릴러', '드라마', 'SF/판타지', '액션', 'SF/판타지', '로맨스', '공포']\n",
        "  for i in range(len(kobis_genre_list)):\n",
        "    for j in range(len(before)):\n",
        "      if kobis_genre_list[i] == before[j]:\n",
        "        kobis_genre_list[i] = after[j]\n",
        "  return kobis_genre_list\n",
        "\n",
        "def genre_modification(kobis_genre_list: list):\n",
        "    '''\n",
        "    modify kobis movie genres to customize to our movie trailer website genres\n",
        "    :param: kobis_genre_listame: movie genres\n",
        "    :return: a list with modified movie genre names\n",
        "    '''\n",
        "  # remove 'western', 'adult (erotic)', 'documentary', 'other' genres\n",
        "  blacklist = ['서부극(웨스턴)', '성인물(에로)', '다큐멘터리', '기타']\n",
        "  for i in kobis_genre_list:\n",
        "    if i in blacklist:\n",
        "      return -1\n",
        "\n",
        "  # process 'performance', 'musical' genres\n",
        "  if '공연' in kobis_genre_list:\n",
        "    if len(kobis_genre_list) ==1:\n",
        "      return -1\n",
        "    else:\n",
        "      kobis_genre_list.remove('공연')\n",
        "\n",
        "  if '뮤지컬' in kobis_genre_list:\n",
        "    if len(kobis_genre_list) ==1:\n",
        "      return -1\n",
        "    else:\n",
        "      kobis_genre_list.remove('뮤지컬')\n",
        "\n",
        "  # process 'historical play' genre\n",
        "  if '사극' in kobis_genre_list:\n",
        "    if len(kobis_genre_list) ==1:\n",
        "      kobis_genre_list[kobis_genre_list.index('사극')] = '드라마'\n",
        "    else:\n",
        "      kobis_genre_list.remove('사극')\n",
        "\n",
        "  kobis_genre_list = change_genre(kobis_genre_list)\n",
        "\n",
        "  # eliminate any redundant genre in a list\n",
        "  kobis_genre_list = list(set(kobis_genre_list))\n",
        "\n",
        "  return kobis_genre_list"
      ]
    },
    {
      "cell_type": "markdown",
      "metadata": {
        "id": "liBIESufuSgY"
      },
      "source": [
        "## trailer(movieCd): choose the trailer url by using BeautifulSoup"
      ]
    },
    {
      "cell_type": "code",
      "execution_count": null,
      "metadata": {
        "id": "LdvH5xKo_6WJ"
      },
      "outputs": [],
      "source": [
        "vodUrl_list = []\n",
        "\n",
        "def trailer(movieCd: str):\n",
        "    '''\n",
        "    use BeautifulSoup to scrape movie trailer url from kmdb website and append to vodUrl_list\n",
        "    :param: movieCd: kmdb movie identification code\n",
        "    :return: None\n",
        "    '''\n",
        "  vodUrl_list.clear()\n",
        "  alpha = movieCd[0]\n",
        "  number = movieCd[1:]\n",
        "  url = f\"http://kmdb.or.kr/db/kor/detail/movie/{alpha}/{number}/own/videoData\"\n",
        "  r = requests.get(url.format(alpha, number))\n",
        "  soup = BeautifulSoup(r.text, 'html.parser')\n",
        "\n",
        "  for li in soup.find_all('li', class_='pt0'):\n",
        "    text = li.find('span', attrs = {'class': \"timeline-musicvideo\"}).get_text()\n",
        "    vodUrl = li.a['href']\n",
        "    result = vodUrl[20:36]\n",
        "    if text == '예고편':\n",
        "      vodUrl_list.append(f\"https://www.kmdb.or.kr/trailer/trailerPlayPop?pFileNm={result}\")"
      ]
    },
    {
      "cell_type": "markdown",
      "metadata": {
        "id": "fKKoPkKhubSf"
      },
      "source": [
        "## write(metadata_base): create json file"
      ]
    },
    {
      "cell_type": "code",
      "execution_count": null,
      "metadata": {
        "id": "ijcy8FyRAAU-"
      },
      "outputs": [],
      "source": [
        "def write(metadata_base: dict):\n",
        "    '''\n",
        "    create a json file\n",
        "    :param: metadata_base: movie metadata\n",
        "    :return: None\n",
        "    '''\n",
        "  title = metadata_base[\"title\"]\n",
        "  file_path = f\"./sample_data/movie/{title}.json\"\n",
        "  json_data = json.dumps(metadata_base, ensure_ascii=False)\n",
        "  with open(file_path, 'w') as f:\n",
        "      f.write(json_data)"
      ]
    },
    {
      "cell_type": "markdown",
      "metadata": {
        "id": "4e1kW2VIueZQ"
      },
      "source": [
        "## get_movie_metadata(movie_name)"
      ]
    },
    {
      "cell_type": "code",
      "execution_count": null,
      "metadata": {
        "id": "tNXx86GvySLH"
      },
      "outputs": [],
      "source": [
        "def get_metadata_per_movie(movie_name: str):\n",
        "  '''\n",
        "  use each movie identification code in kobis_code list (global) to create a movie metadata and and upload on Dataverse as a separate dataset\n",
        "  :param: movie_name: movie name\n",
        "  :return: None\n",
        "  '''\n",
        "  kobis_movie_code = get_kobis_movie_code(movie_name)\n",
        "  for kobis_movie in kobis_movie_code:\n",
        "    kobis_metadata = get_kobis_metadata(kobis_movie)\n",
        "    result = get_movie_metadata(kobis_metadata,movie_name)\n",
        "    if result == -1:\n",
        "      print(\"No Match .. Skipping this movie\")\n",
        "      continue\n",
        "    print(movie_name)\n",
        "    dataset_response = make_film_dataset(movie_name, result)\n",
        "    print(dataset_response)"
      ]
    },
    {
      "cell_type": "code",
      "execution_count": null,
      "metadata": {
        "id": "JYV9n0chASwu"
      },
      "outputs": [],
      "source": [
        "def get_movie_metadata(kobis_metadata: dict, movie_name: str):\n",
        "    '''\n",
        "    request movie metadata and get the metadata in a dict format\n",
        "    :param: movie_name: movie name\n",
        "    :return: json metadata format to upload on Dataverse dataset\n",
        "    '''\n",
        "\n",
        "    metadata_base = {\n",
        "        \"title\": \"sample\",\n",
        "        \"titleEng\": \"sample\",\n",
        "        \"genre\": [],\n",
        "        \"synopsis\": {},\n",
        "        \"openDate\": \"sample\",\n",
        "        \"runningTimeMinute\": 0,\n",
        "        \"actors\": [],\n",
        "        \"directors\": [],\n",
        "        \"producer\" : [],\n",
        "        \"distributor\": [],\n",
        "        \"keywords\": [],\n",
        "        \"posterUrl\": \"\",\n",
        "        \"vodUrl\": []\n",
        "    }\n",
        "\n",
        "    kmdb_metadata = get_kmdb_metadata(movie_name)\n",
        "    # Do not upload on dataverse if directors value is null\n",
        "    if(kobis_metadata[\"directors\"]==[]):\n",
        "      print('No director')\n",
        "      return -1\n",
        "    else:\n",
        "      metadata_base[\"directors\"] = kobis_metadata[\"directors\"]\n",
        "\n",
        "    movie_match: dict = dict()\n",
        "    flag = 0\n",
        "    # Do not upload on dataverse if kmdb metadata value is null\n",
        "    if kmdb_metadata == None:\n",
        "      print(\"No matching movie (kobis & KMDB)\")\n",
        "      return -1\n",
        "    # Do not upload on dataverse if there is no matching movie\n",
        "    else:\n",
        "      for movie in kmdb_metadata:\n",
        "        for director in movie.get(\"directors\").get(\"director\"):\n",
        "          if director.get(\"directorNm\") == metadata_base[\"directors\"][0][\"peopleNm\"]:\n",
        "            flag = 1\n",
        "            movie_match = movie\n",
        "            break\n",
        "        if flag == 1:\n",
        "          break\n",
        "    if flag==0:\n",
        "      print(\"No matching movie (kobis & KMDB)\")\n",
        "      return -1\n",
        "\n",
        "    metadata_base[\"title\"] = kobis_metadata[\"movieNm\"]\n",
        "    metadata_base[\"titleEng\"] = kobis_metadata[\"movieNmEn\"]\n",
        "    metadata_base[\"openDate\"] = kobis_metadata[\"openDt\"]\n",
        "    metadata_base[\"runningTimeMinute\"] = kobis_metadata[\"showTm\"]\n",
        "    metadata_base[\"actors\"] = list(map(lambda x: x[\"peopleNm\"], kobis_metadata[\"actors\"][:5]))\n",
        "    producer_list = list(map(producer, kobis_metadata[\"companys\"]))\n",
        "    for i in producer_list:\n",
        "      if i!=None:\n",
        "        metadata_base[\"producer\"].append(i)\n",
        "        break\n",
        "    distributor_list = list(map(distributor, kobis_metadata[\"companys\"]))\n",
        "    for i in distributor_list:\n",
        "      if i != None:\n",
        "        metadata_base[\"distributor\"].append(i)\n",
        "        break\n",
        "    genre = genre_modification(list(map(lambda x: x[\"genreNm\"], kobis_metadata[\"genres\"])))\n",
        "    if genre == -1:\n",
        "      return -1\n",
        "    else:\n",
        "      metadata_base[\"genre\"] = genre\n",
        "\n",
        "    metadata_base[\"synopsis\"] = movie_match[\"plots\"][\"plot\"][0]\n",
        "    keywords = list(set(movie_match[\"keywords\"].split(\",\")[:7]))[:5]\n",
        "    metadata_base[\"keywords\"] = keywords\n",
        "    metadata_base[\"posterUrl\"] = posterUrl(movie_match[\"posters\"])\n",
        "    trailer(movie_match[\"DOCID\"])\n",
        "    cnt = 0\n",
        "    for i in vodUrl_list:\n",
        "      metadata_base[\"vodUrl\"].append(i)\n",
        "      cnt+=1\n",
        "      if cnt == 3:\n",
        "        break\n",
        "\n",
        "    # Do not upload on dataverse if vodUrl value is null (as the focus is on creating a movie trailer website; may later be customized)\n",
        "    if metadata_base[\"vodUrl\"] == []:\n",
        "      return -1\n",
        "    if metadata_base['posterUrl'] == \"\":\n",
        "      metadata_base['posterUrl'] = \"정보 없음\";\n",
        "\n",
        "    metadata_base[\"directors\"] = list(map(lambda x: x[\"peopleNm\"], kobis_metadata[\"directors\"]))\n",
        "    write(metadata_base)\n",
        "    return metadata_base"
      ]
    },
    {
      "cell_type": "code",
      "execution_count": null,
      "metadata": {
        "id": "l3aNJ2jEAcW3"
      },
      "outputs": [],
      "source": [
        "def make_film_dataset(movie_name: str, movie_metadata: dict):\n",
        "    '''\n",
        "    create a dataset on SNU dataverse (movies sub-dataverse)\n",
        "    :param: movie_name: movie name; use it as a dataset title\n",
        "    :param: movie_metadata: movie metadata; use it as a dataset metadata (description section)\n",
        "    :return: REST API response value\n",
        "    '''\n",
        "    server_url = \"https://snu.dataverse.ac.kr\"\n",
        "    parent = \"movies\"\n",
        "    route = f\"/api/dataverses/{parent}/datasets\"\n",
        "\n",
        "    url = server_url + route\n",
        "\n",
        "    headers = {\"X-Dataverse-key\": dataverse_key,\n",
        "               \"Content-Type\": \"application/json\"}\n",
        "    body: dict\n",
        "    with open(\"./sample_data/dataset-default.json\", \"r\", encoding='utf-8') as file:\n",
        "        json_data = json.load(file)\n",
        "        body = json_data\n",
        "\n",
        "    body[\"datasetVersion\"][\"metadataBlocks\"][\"citation\"][\"fields\"][0][\"value\"] = movie_name\n",
        "    body[\"datasetVersion\"][\"metadataBlocks\"][\"citation\"][\"fields\"][3][\"value\"][0][\"dsDescriptionValue\"][\"value\"] = \\\n",
        "        json.dumps(movie_metadata, ensure_ascii=False)\n",
        "\n",
        "    response = requests.post(url, headers=headers, json=body)\n",
        "    return response.text"
      ]
    },
    {
      "cell_type": "markdown",
      "metadata": {
        "id": "3r-3dRKFE-_r"
      },
      "source": [
        "# Clear all datasets in a dataverse collection"
      ]
    },
    {
      "cell_type": "code",
      "execution_count": null,
      "metadata": {
        "id": "CX6e29twFExW"
      },
      "outputs": [],
      "source": [
        "def clear_dataverse_collection():\n",
        "    '''\n",
        "    clear all dataset from a dataverse collection\n",
        "    :param: None\n",
        "    :return: None\n",
        "    '''\n",
        "    url = \"https://snu.dataverse.ac.kr/api/dataverses/movies/contents\"\n",
        "    headers = {\"X-Dataverse-key\": dataverse_key}\n",
        "\n",
        "    response = requests.get(url, headers=headers)\n",
        "    body = json.loads(response.text)\n",
        "    for dataset in body[\"data\"]:\n",
        "        dataset_id = dataset[\"id\"]\n",
        "        dataset_url = f\"https://snu.dataverse.ac.kr/api/datasets/{dataset_id}\"\n",
        "        requests.delete(dataset_url, headers=headers)\n",
        "    response = requests.get(url, headers=headers)\n",
        "    body = json.loads(response.text)\n",
        "    print(body)"
      ]
    },
    {
      "cell_type": "code",
      "execution_count": null,
      "metadata": {
        "colab": {
          "base_uri": "https://localhost:8080/"
        },
        "id": "3XcK4cuLBfEr",
        "outputId": "07431ab2-7912-45d5-b277-a14917a12c29"
      },
      "outputs": [
        {
          "name": "stdout",
          "output_type": "stream",
          "text": [
            "{'status': 'OK', 'data': []}\n"
          ]
        }
      ],
      "source": [
        "clear_dataverse_collection()"
      ]
    },
    {
      "cell_type": "markdown",
      "metadata": {
        "id": "tfKVArVmuwz-"
      },
      "source": [
        "# Movie List to Upload (Read from KOBIS excel file)\n",
        "### Total: 5505 rows in raw dataset (1450 uploaded on Dataverse)"
      ]
    },
    {
      "cell_type": "code",
      "execution_count": null,
      "metadata": {
        "colab": {
          "base_uri": "https://localhost:8080/",
          "height": 250
        },
        "id": "aYkBbmCku8km",
        "outputId": "84627e3b-9285-4dd6-ded3-cf05f78deb9f"
      },
      "outputs": [
        {
          "output_type": "execute_result",
          "data": {
            "text/plain": [
              "0        영화명           영화명(영문)  제작연도 제작국가  유형            장르  제작상태   감독  \\\n",
              "0  퀴어 마이 프렌즈  Queer My Friends  2022   한국  장편  다큐멘터리,드라마,가족  개봉예정  서아현   \n",
              "1        데시벨           Decibel  2021   한국  장편            액션    개봉  황인호   \n",
              "2          잠             Sleep  2022   한국  장편          미스터리  개봉예정  유재선   \n",
              "3       낭만여행      Romance trip  2023   한국  장편       코미디,드라마  개봉예정  박동기   \n",
              "4        더 문          The Moon  2023   한국  장편     SF,액션,드라마  개봉예정  김용화   \n",
              "\n",
              "0                     제작사 '성인물(에로)' 포함 여부 감독 2명 이상 여부  \n",
              "0                   시소픽쳐스               0           0  \n",
              "1  이스트드림시노펙스(주),(주)기억속의매미               0           0  \n",
              "2              (주)루이스 픽쳐스               0           0  \n",
              "3                    낭만필름               0           0  \n",
              "4              (주)블라드스튜디오               0           0  "
            ],
            "text/html": [
              "\n",
              "\n",
              "  <div id=\"df-86261502-837c-4f96-9277-771dc6e5875e\">\n",
              "    <div class=\"colab-df-container\">\n",
              "      <div>\n",
              "<style scoped>\n",
              "    .dataframe tbody tr th:only-of-type {\n",
              "        vertical-align: middle;\n",
              "    }\n",
              "\n",
              "    .dataframe tbody tr th {\n",
              "        vertical-align: top;\n",
              "    }\n",
              "\n",
              "    .dataframe thead th {\n",
              "        text-align: right;\n",
              "    }\n",
              "</style>\n",
              "<table border=\"1\" class=\"dataframe\">\n",
              "  <thead>\n",
              "    <tr style=\"text-align: right;\">\n",
              "      <th></th>\n",
              "      <th>영화명</th>\n",
              "      <th>영화명(영문)</th>\n",
              "      <th>제작연도</th>\n",
              "      <th>제작국가</th>\n",
              "      <th>유형</th>\n",
              "      <th>장르</th>\n",
              "      <th>제작상태</th>\n",
              "      <th>감독</th>\n",
              "      <th>제작사</th>\n",
              "      <th>'성인물(에로)' 포함 여부</th>\n",
              "      <th>감독 2명 이상 여부</th>\n",
              "    </tr>\n",
              "  </thead>\n",
              "  <tbody>\n",
              "    <tr>\n",
              "      <th>0</th>\n",
              "      <td>퀴어 마이 프렌즈</td>\n",
              "      <td>Queer My Friends</td>\n",
              "      <td>2022</td>\n",
              "      <td>한국</td>\n",
              "      <td>장편</td>\n",
              "      <td>다큐멘터리,드라마,가족</td>\n",
              "      <td>개봉예정</td>\n",
              "      <td>서아현</td>\n",
              "      <td>시소픽쳐스</td>\n",
              "      <td>0</td>\n",
              "      <td>0</td>\n",
              "    </tr>\n",
              "    <tr>\n",
              "      <th>1</th>\n",
              "      <td>데시벨</td>\n",
              "      <td>Decibel</td>\n",
              "      <td>2021</td>\n",
              "      <td>한국</td>\n",
              "      <td>장편</td>\n",
              "      <td>액션</td>\n",
              "      <td>개봉</td>\n",
              "      <td>황인호</td>\n",
              "      <td>이스트드림시노펙스(주),(주)기억속의매미</td>\n",
              "      <td>0</td>\n",
              "      <td>0</td>\n",
              "    </tr>\n",
              "    <tr>\n",
              "      <th>2</th>\n",
              "      <td>잠</td>\n",
              "      <td>Sleep</td>\n",
              "      <td>2022</td>\n",
              "      <td>한국</td>\n",
              "      <td>장편</td>\n",
              "      <td>미스터리</td>\n",
              "      <td>개봉예정</td>\n",
              "      <td>유재선</td>\n",
              "      <td>(주)루이스 픽쳐스</td>\n",
              "      <td>0</td>\n",
              "      <td>0</td>\n",
              "    </tr>\n",
              "    <tr>\n",
              "      <th>3</th>\n",
              "      <td>낭만여행</td>\n",
              "      <td>Romance trip</td>\n",
              "      <td>2023</td>\n",
              "      <td>한국</td>\n",
              "      <td>장편</td>\n",
              "      <td>코미디,드라마</td>\n",
              "      <td>개봉예정</td>\n",
              "      <td>박동기</td>\n",
              "      <td>낭만필름</td>\n",
              "      <td>0</td>\n",
              "      <td>0</td>\n",
              "    </tr>\n",
              "    <tr>\n",
              "      <th>4</th>\n",
              "      <td>더 문</td>\n",
              "      <td>The Moon</td>\n",
              "      <td>2023</td>\n",
              "      <td>한국</td>\n",
              "      <td>장편</td>\n",
              "      <td>SF,액션,드라마</td>\n",
              "      <td>개봉예정</td>\n",
              "      <td>김용화</td>\n",
              "      <td>(주)블라드스튜디오</td>\n",
              "      <td>0</td>\n",
              "      <td>0</td>\n",
              "    </tr>\n",
              "  </tbody>\n",
              "</table>\n",
              "</div>\n",
              "      <button class=\"colab-df-convert\" onclick=\"convertToInteractive('df-86261502-837c-4f96-9277-771dc6e5875e')\"\n",
              "              title=\"Convert this dataframe to an interactive table.\"\n",
              "              style=\"display:none;\">\n",
              "\n",
              "  <svg xmlns=\"http://www.w3.org/2000/svg\" height=\"24px\"viewBox=\"0 0 24 24\"\n",
              "       width=\"24px\">\n",
              "    <path d=\"M0 0h24v24H0V0z\" fill=\"none\"/>\n",
              "    <path d=\"M18.56 5.44l.94 2.06.94-2.06 2.06-.94-2.06-.94-.94-2.06-.94 2.06-2.06.94zm-11 1L8.5 8.5l.94-2.06 2.06-.94-2.06-.94L8.5 2.5l-.94 2.06-2.06.94zm10 10l.94 2.06.94-2.06 2.06-.94-2.06-.94-.94-2.06-.94 2.06-2.06.94z\"/><path d=\"M17.41 7.96l-1.37-1.37c-.4-.4-.92-.59-1.43-.59-.52 0-1.04.2-1.43.59L10.3 9.45l-7.72 7.72c-.78.78-.78 2.05 0 2.83L4 21.41c.39.39.9.59 1.41.59.51 0 1.02-.2 1.41-.59l7.78-7.78 2.81-2.81c.8-.78.8-2.07 0-2.86zM5.41 20L4 18.59l7.72-7.72 1.47 1.35L5.41 20z\"/>\n",
              "  </svg>\n",
              "      </button>\n",
              "\n",
              "\n",
              "\n",
              "    <div id=\"df-8a3f3fb5-fa1f-4a46-82fc-e83927b8cf10\">\n",
              "      <button class=\"colab-df-quickchart\" onclick=\"quickchart('df-8a3f3fb5-fa1f-4a46-82fc-e83927b8cf10')\"\n",
              "              title=\"Suggest charts.\"\n",
              "              style=\"display:none;\">\n",
              "\n",
              "<svg xmlns=\"http://www.w3.org/2000/svg\" height=\"24px\"viewBox=\"0 0 24 24\"\n",
              "     width=\"24px\">\n",
              "    <g>\n",
              "        <path d=\"M19 3H5c-1.1 0-2 .9-2 2v14c0 1.1.9 2 2 2h14c1.1 0 2-.9 2-2V5c0-1.1-.9-2-2-2zM9 17H7v-7h2v7zm4 0h-2V7h2v10zm4 0h-2v-4h2v4z\"/>\n",
              "    </g>\n",
              "</svg>\n",
              "      </button>\n",
              "    </div>\n",
              "\n",
              "<style>\n",
              "  .colab-df-quickchart {\n",
              "    background-color: #E8F0FE;\n",
              "    border: none;\n",
              "    border-radius: 50%;\n",
              "    cursor: pointer;\n",
              "    display: none;\n",
              "    fill: #1967D2;\n",
              "    height: 32px;\n",
              "    padding: 0 0 0 0;\n",
              "    width: 32px;\n",
              "  }\n",
              "\n",
              "  .colab-df-quickchart:hover {\n",
              "    background-color: #E2EBFA;\n",
              "    box-shadow: 0px 1px 2px rgba(60, 64, 67, 0.3), 0px 1px 3px 1px rgba(60, 64, 67, 0.15);\n",
              "    fill: #174EA6;\n",
              "  }\n",
              "\n",
              "  [theme=dark] .colab-df-quickchart {\n",
              "    background-color: #3B4455;\n",
              "    fill: #D2E3FC;\n",
              "  }\n",
              "\n",
              "  [theme=dark] .colab-df-quickchart:hover {\n",
              "    background-color: #434B5C;\n",
              "    box-shadow: 0px 1px 3px 1px rgba(0, 0, 0, 0.15);\n",
              "    filter: drop-shadow(0px 1px 2px rgba(0, 0, 0, 0.3));\n",
              "    fill: #FFFFFF;\n",
              "  }\n",
              "</style>\n",
              "\n",
              "    <script>\n",
              "      async function quickchart(key) {\n",
              "        const containerElement = document.querySelector('#' + key);\n",
              "        const charts = await google.colab.kernel.invokeFunction(\n",
              "            'suggestCharts', [key], {});\n",
              "      }\n",
              "    </script>\n",
              "\n",
              "      <script>\n",
              "\n",
              "function displayQuickchartButton(domScope) {\n",
              "  let quickchartButtonEl =\n",
              "    domScope.querySelector('#df-8a3f3fb5-fa1f-4a46-82fc-e83927b8cf10 button.colab-df-quickchart');\n",
              "  quickchartButtonEl.style.display =\n",
              "    google.colab.kernel.accessAllowed ? 'block' : 'none';\n",
              "}\n",
              "\n",
              "        displayQuickchartButton(document);\n",
              "      </script>\n",
              "      <style>\n",
              "    .colab-df-container {\n",
              "      display:flex;\n",
              "      flex-wrap:wrap;\n",
              "      gap: 12px;\n",
              "    }\n",
              "\n",
              "    .colab-df-convert {\n",
              "      background-color: #E8F0FE;\n",
              "      border: none;\n",
              "      border-radius: 50%;\n",
              "      cursor: pointer;\n",
              "      display: none;\n",
              "      fill: #1967D2;\n",
              "      height: 32px;\n",
              "      padding: 0 0 0 0;\n",
              "      width: 32px;\n",
              "    }\n",
              "\n",
              "    .colab-df-convert:hover {\n",
              "      background-color: #E2EBFA;\n",
              "      box-shadow: 0px 1px 2px rgba(60, 64, 67, 0.3), 0px 1px 3px 1px rgba(60, 64, 67, 0.15);\n",
              "      fill: #174EA6;\n",
              "    }\n",
              "\n",
              "    [theme=dark] .colab-df-convert {\n",
              "      background-color: #3B4455;\n",
              "      fill: #D2E3FC;\n",
              "    }\n",
              "\n",
              "    [theme=dark] .colab-df-convert:hover {\n",
              "      background-color: #434B5C;\n",
              "      box-shadow: 0px 1px 3px 1px rgba(0, 0, 0, 0.15);\n",
              "      filter: drop-shadow(0px 1px 2px rgba(0, 0, 0, 0.3));\n",
              "      fill: #FFFFFF;\n",
              "    }\n",
              "  </style>\n",
              "\n",
              "      <script>\n",
              "        const buttonEl =\n",
              "          document.querySelector('#df-86261502-837c-4f96-9277-771dc6e5875e button.colab-df-convert');\n",
              "        buttonEl.style.display =\n",
              "          google.colab.kernel.accessAllowed ? 'block' : 'none';\n",
              "\n",
              "        async function convertToInteractive(key) {\n",
              "          const element = document.querySelector('#df-86261502-837c-4f96-9277-771dc6e5875e');\n",
              "          const dataTable =\n",
              "            await google.colab.kernel.invokeFunction('convertToInteractive',\n",
              "                                                     [key], {});\n",
              "          if (!dataTable) return;\n",
              "\n",
              "          const docLinkHtml = 'Like what you see? Visit the ' +\n",
              "            '<a target=\"_blank\" href=https://colab.research.google.com/notebooks/data_table.ipynb>data table notebook</a>'\n",
              "            + ' to learn more about interactive tables.';\n",
              "          element.innerHTML = '';\n",
              "          dataTable['output_type'] = 'display_data';\n",
              "          await google.colab.output.renderOutput(dataTable, element);\n",
              "          const docLink = document.createElement('div');\n",
              "          docLink.innerHTML = docLinkHtml;\n",
              "          element.appendChild(docLink);\n",
              "        }\n",
              "      </script>\n",
              "    </div>\n",
              "  </div>\n"
            ]
          },
          "metadata": {},
          "execution_count": 13
        }
      ],
      "source": [
        "file_path = \"./sample_data/kobis_movies_list 3.xlsx\"\n",
        "movie_list = pd.read_excel(file_path)\n",
        "movie_list = movie_list.drop(range(3))\n",
        "movie_list.reset_index(drop = True, inplace = True)\n",
        "\n",
        "new_column_names = movie_list.iloc[0]\n",
        "movie_list.columns = new_column_names\n",
        "movie_list = movie_list.iloc[1:].reset_index(drop = True)\n",
        "movie_list[:5]"
      ]
    },
    {
      "cell_type": "code",
      "execution_count": null,
      "metadata": {
        "id": "Wr3TGMztxZVJ"
      },
      "outputs": [],
      "source": [
        "for movie in movie_list[\"영화명\"]:\n",
        "  get_metadata_per_movie(movie)"
      ]
    }
  ],
  "metadata": {
    "colab": {
      "provenance": [],
      "include_colab_link": true
    },
    "kernelspec": {
      "display_name": "Python 3",
      "name": "python3"
    },
    "language_info": {
      "name": "python"
    }
  },
  "nbformat": 4,
  "nbformat_minor": 0
}